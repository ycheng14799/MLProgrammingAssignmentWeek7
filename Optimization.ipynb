{
 "cells": [
  {
   "cell_type": "code",
   "execution_count": 140,
   "metadata": {},
   "outputs": [],
   "source": [
    "import numpy as np \n",
    "import matplotlib.pyplot as plt \n",
    "from sklearn.datasets import load_digits \n",
    "from sklearn.model_selection import train_test_split\n",
    "from sklearn.preprocessing import StandardScaler"
   ]
  },
  {
   "cell_type": "code",
   "execution_count": 976,
   "metadata": {},
   "outputs": [],
   "source": [
    "def sigmoid(x): \n",
    "    return 1.0 / (1.0 + np.exp(-x))\n",
    "\n",
    "def logPredict(X, w): \n",
    "    return sigmoid(np.dot(X,w))\n",
    "\n",
    "def logAvgCost(X, y, w, regularization=None, lmda=0):\n",
    "    predict = logPredict(X, w)\n",
    "    cost = y * np.log(predict) + (1.0 - y) * np.log(1.0 - predict)\n",
    "    cost = - cost \n",
    "    totalCost = cost.sum()\n",
    "    if regularization == 'l1':\n",
    "        totalCost += l1Cost(lmda, w)\n",
    "    elif regularization == 'l2':\n",
    "        totalCost += l2Cost(lmda, w)\n",
    "    return totalCost / y.shape[0]\n",
    "\n",
    "def l1Cost(lmda, w): \n",
    "    return lmda * np.sum(np.abs(w))\n",
    "\n",
    "def l2Cost(lmda, w):\n",
    "    return lmda * np.sum(np.square(w))\n",
    "\n",
    "def l1Grad(lmda, w):\n",
    "    gradient = lmda * np.sign(w)\n",
    "    zeros = np.array(np.where(gradient == 0)).T\n",
    "    for zero in zeros:\n",
    "        gradient[zero] = (2.0 * np.random.rand()) - 1.0\n",
    "    return gradient\n",
    "\n",
    "def l2Grad(lmda, w): \n",
    "    return lmda * 2 * w\n",
    "\n",
    "def logAvgGrad(X, y, w, regularization=None, lmda=0):\n",
    "    predict = logPredict(X, w)\n",
    "    gradient = np.dot(X.T, predict - y) \n",
    "    if regularization == 'l1':\n",
    "        gradient += l1Grad(lmda, w)\n",
    "    elif regularization == 'l2':\n",
    "        gradient += l2Grad(lmda, w)\n",
    "    return gradient / y.shape[0]\n",
    "\n",
    "def updateWeightsGD(X, y, w, lr, regularization=None, lmda=0):\n",
    "    gradient = logAvgGrad(X, y, w, regularization, lmda)\n",
    "    return w - (lr * gradient)\n",
    "\n",
    "def trainGD(X, y, w, lr, numIters, logFreq, regularization=None, lmda=0):\n",
    "    costs = [] \n",
    "    for i in range(numIters):\n",
    "        cost = logAvgCost(X, y, w, regularization, lmda)\n",
    "        w = updateWeightsGD(X, y, w, lr, regularization, lmda)\n",
    "        if i % logFreq == 0: \n",
    "            print(\"iter:\", i, \"cost:\", cost)\n",
    "            costs.append(cost)\n",
    "    return w, costs\n",
    "\n",
    "def trainGDMulticlass(X, y, lr, numIters, logFreq, regularization=None, lmda=0):\n",
    "    uniqueYs = np.unique(y)\n",
    "    ys = [] \n",
    "    for uniqueY in uniqueYs: \n",
    "        binaryYs = np.copy(y)\n",
    "        binaryYs += 1 \n",
    "        binaryYs[binaryYs != uniqueY + 1] = 0\n",
    "        binaryYs[binaryYs == uniqueY + 1] = 1\n",
    "        ys.append(binaryYs)\n",
    "    ys = np.array(ys)\n",
    "    ws = np.random.rand(uniqueYs.shape[0],\\\n",
    "        X.shape[1],1)\n",
    "    costs = []\n",
    "    for i in range(numIters):\n",
    "        cost = 0\n",
    "        for uniqueY in uniqueYs: \n",
    "            cost += logAvgCost(X, ys[uniqueY], ws[uniqueY], regularization, lmda)\n",
    "            ws[uniqueY] = updateWeightsGD(X, ys[uniqueY],\\\n",
    "                ws[uniqueY], lr, regularization, lmda)\n",
    "        cost /= uniqueYs.shape[0]\n",
    "        if i % logFreq == 0:\n",
    "            print(\"iter:\", i, \"cost:\", cost)\n",
    "            costs.append(cost)\n",
    "    costs = np.array(costs)\n",
    "    return ws, costs\n",
    "\n",
    "def logPredictMulticlass(X, w):\n",
    "    predictions = [] \n",
    "    for i in range(ws.shape[0]):\n",
    "        predictions.append(logPredict(X,w[i]))\n",
    "    predictions = np.array(predictions)\n",
    "    return np.argmax(predictions,axis=0)\n",
    "\n",
    "def logMulticlassAccuracy(X, w, y):\n",
    "    predictions = logPredictMulticlass(X, w)\n",
    "    return np.sum(predictions == y) / y.shape[0]"
   ]
  },
  {
   "cell_type": "code",
   "execution_count": 997,
   "metadata": {},
   "outputs": [
    {
     "name": "stdout",
     "output_type": "stream",
     "text": [
      "iter: 0 cost: 231.50170281415285\n",
      "iter: 10 cost: 461.10421868424964\n",
      "iter: 20 cost: 988.7473613220909\n",
      "iter: 30 cost: 1395.5158953375028\n",
      "iter: 40 cost: nan\n",
      "iter: 50 cost: nan\n",
      "iter: 60 cost: nan\n",
      "iter: 70 cost: 1013.6369240204182\n"
     ]
    },
    {
     "name": "stderr",
     "output_type": "stream",
     "text": [
      "C:\\Users\\ychen\\Anaconda3\\lib\\site-packages\\ipykernel_launcher.py:9: RuntimeWarning: invalid value encountered in multiply\n",
      "  if __name__ == '__main__':\n"
     ]
    },
    {
     "name": "stdout",
     "output_type": "stream",
     "text": [
      "iter: 80 cost: 1111.0448224166678\n",
      "iter: 90 cost: inf\n",
      "Accuracy (Training): 0.07376478775226165\n",
      "Accuracy (Test): 0.04722222222222222\n"
     ]
    },
    {
     "data": {
      "text/plain": [
       "array([ 231.50170281,  461.10421868,  988.74736132, 1395.51589534,\n",
       "                 nan,           nan,           nan, 1013.63692402,\n",
       "       1111.04482242,           inf])"
      ]
     },
     "execution_count": 997,
     "metadata": {},
     "output_type": "execute_result"
    }
   ],
   "source": [
    "# Load dataset\n",
    "digits = load_digits()\n",
    "digX = digits.images \n",
    "digY = digits.target\n",
    "# Reshape images into 1D vectors \n",
    "digX = np.reshape(digX, \\\n",
    "    (digX.shape[0], digX.shape[1] * digX.shape[2]))\n",
    "# Normalize all images \n",
    "for i in range(digX.shape[0]):\n",
    "    digX[i] = np.divide(digX[i], np.amax(digX,axis=1)[i])\n",
    "\n",
    "# Split training and test sets \n",
    "digXTrain, digXTest, digYTrain, digYTest = \\\n",
    "    train_test_split(digX, digY, test_size=0.20)\n",
    "\n",
    "# Ensure dimensionality matches \n",
    "digYTrain = np.expand_dims(digYTrain, axis=1)\n",
    "digYTest = np.expand_dims(digYTest, axis=1)\n",
    "\n",
    "# Stochastic Gradient Descent Training\n",
    "ws, costs = trainGDMulticlass(digXTrain,\\\n",
    "    digYTrain, 1, 100, 10, 'l1', 10000)\n",
    "\n",
    "# Evaluation \n",
    "print(\"Accuracy (Training):\",\n",
    "    logMulticlassAccuracy(digXTrain, ws, digYTrain))\n",
    "print(\"Accuracy (Test):\",\\\n",
    "    logMulticlassAccuracy(digXTest, ws, digYTest))\n",
    "\n",
    "costs"
   ]
  },
  {
   "cell_type": "code",
   "execution_count": null,
   "metadata": {},
   "outputs": [],
   "source": []
  }
 ],
 "metadata": {
  "kernelspec": {
   "display_name": "Python 3",
   "language": "python",
   "name": "python3"
  },
  "language_info": {
   "codemirror_mode": {
    "name": "ipython",
    "version": 3
   },
   "file_extension": ".py",
   "mimetype": "text/x-python",
   "name": "python",
   "nbconvert_exporter": "python",
   "pygments_lexer": "ipython3",
   "version": "3.7.4"
  }
 },
 "nbformat": 4,
 "nbformat_minor": 2
}
